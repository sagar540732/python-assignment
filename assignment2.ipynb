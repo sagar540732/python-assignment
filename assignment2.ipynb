{
 "cells": [
  {
   "cell_type": "markdown",
   "metadata": {},
   "source": [
    "Q1. What are the Boolean data type's two values? How do you go about writing them?\n",
    "ans : The boolean data type's of two values are True and False where  True = 1 and False = 0 ."
   ]
  },
  {
   "cell_type": "markdown",
   "metadata": {},
   "source": [
    "Q2. What are the three different types of Boolean operators?\\\n",
    "\n",
    "The three different types of boolean operators are \n",
    "1.AND\n",
    "2.OR\n",
    "3.NOT"
   ]
  },
  {
   "cell_type": "markdown",
   "metadata": {},
   "source": [
    "\"\"\"Q3. 3. Make a list of each Boolean operator's truth tables \n",
    "(i.e. every possible combination of Boolean values for the operator and what it evaluate ).\n",
    "\n",
    "ans: p     q    p and q  p or q   p(NOT)   Q(NOT)\"\"\"\n",
    "    T     T      T       T       F        T\n",
    "    T     F      F       T       F        T\n",
    "    F     T      F       T       T        F\n",
    "    F     F      F       F       T        F"
   ]
  },
  {
   "cell_type": "markdown",
   "metadata": {},
   "source": [
    "4 What are the values of the following expressions?\n",
    "\n",
    "(5 > 4) and (3 == 5) = FALSE\n",
    "not (5 > 4) = \n",
    "(5 > 4) or (3 == 5)= TRUE\n",
    "not ((5 > 4) or (3 == 5))\n",
    "(True and True) and (True == False) \n",
    "(not False) or (not True)\n"
   ]
  },
  {
   "cell_type": "code",
   "execution_count": null,
   "metadata": {},
   "outputs": [],
   "source": []
  },
  {
   "cell_type": "markdown",
   "metadata": {},
   "source": [
    ".What are the six different types of reference operators?\n",
    "Ans: RANGE OPERATOR \n",
    "    UNION OPERATOR \n",
    "    INTERSECTION OPERATOR"
   ]
  },
  {
   "cell_type": "markdown",
   "metadata": {},
   "source": [
    "6. How do you tell the difference between the equal to and assignment operators?\n",
    "ans| assignment (=) It is used for assigning the value to a variable\n",
    "     equal (==):It is used for comparing two values. It returns 1 if both the values are equal otherwise returns 0.\n",
    "    "
   ]
  },
  {
   "cell_type": "code",
   "execution_count": 2,
   "metadata": {},
   "outputs": [],
   "source": [
    "spam = 0\n",
    "if spam == 10:\n",
    "    print('eggs')\n",
    "    if spam > 5:\n",
    "        print('bacon')\n",
    "    else:\n",
    "        print('ham')\n",
    "  "
   ]
  },
  {
   "cell_type": "code",
   "execution_count": 3,
   "metadata": {},
   "outputs": [],
   "source": [
    "spam = 0\n",
    "if spam ==1:\n",
    "    print(\"hello\")\n",
    "    if spam ==2:\n",
    "        print(\"howdy\")\n",
    "    else:\n",
    "        print(\"Salutaions\")\n",
    "    "
   ]
  },
  {
   "cell_type": "markdown",
   "metadata": {},
   "source": [
    "10. If your programme is stuck in an endless loop, what keys can you press?\n",
    "answer : Cntr +C"
   ]
  },
  {
   "cell_type": "markdown",
   "metadata": {},
   "source": [
    "11.How can you tell the difference between break and continue?\n",
    "ANS:  The break statement is primarily used as the exit statement, which helps in escaping from the current block or loop\n",
    "    \n",
    "     The continue statement helps in jumping from the current loop iteration to the next loop.\n",
    "    "
   ]
  },
  {
   "cell_type": "markdown",
   "metadata": {},
   "source": [
    "12. In a for loop, what is the difference between range(10), range(0, 10), and range(0, 10, 1)?\n",
    "\n",
    "ans: range(10) mean  it return sequence of number from 0 by default to 9.\n",
    "    range(0,10) An integer number specifying at which it return starting from 0 to stopping point 9\n",
    "    range(0,10,1) an integer number specifying at which it return starting from 0, stopping point in 9 with steps taken is 1."
   ]
  },
  {
   "cell_type": "code",
   "execution_count": null,
   "metadata": {},
   "outputs": [],
   "source": [
    "\n"
   ]
  },
  {
   "cell_type": "code",
   "execution_count": null,
   "metadata": {},
   "outputs": [],
   "source": []
  }
 ],
 "metadata": {
  "kernelspec": {
   "display_name": "Python 3",
   "language": "python",
   "name": "python3"
  },
  "language_info": {
   "codemirror_mode": {
    "name": "ipython",
    "version": 3
   },
   "file_extension": ".py",
   "mimetype": "text/x-python",
   "name": "python",
   "nbconvert_exporter": "python",
   "pygments_lexer": "ipython3",
   "version": "3.8.5"
  }
 },
 "nbformat": 4,
 "nbformat_minor": 4
}
